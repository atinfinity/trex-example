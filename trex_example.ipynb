{
 "cells": [
  {
   "cell_type": "code",
   "execution_count": null,
   "id": "c9bfa92c-1632-4a97-824c-0b9c843361f8",
   "metadata": {},
   "outputs": [],
   "source": [
    "from trex import *"
   ]
  },
  {
   "cell_type": "code",
   "execution_count": null,
   "id": "add1a669-1332-414d-9a97-4511d5d5bd3e",
   "metadata": {},
   "outputs": [],
   "source": [
    "# Configure a wider output (for the wide graphs)\n",
    "set_wide_display()\n",
    "\n",
    "# Choose an engine file to load.\n",
    "engine_name = \"model_bn.onnx.engine\"\n",
    "\n",
    "assert engine_name is not None\n",
    "plan = EnginePlan(f'{engine_name}.graph.json', f'{engine_name}.profile.json', f'{engine_name}.profile.metadata.json', f'{engine_name}.build.metadata.json')"
   ]
  },
  {
   "cell_type": "code",
   "execution_count": null,
   "id": "e2a359e3-46c9-4f42-b61a-3f946a1908f9",
   "metadata": {},
   "outputs": [],
   "source": [
    "print(f\"Summary for {plan.name}:\\n\")\n",
    "plan.summary()"
   ]
  },
  {
   "cell_type": "code",
   "execution_count": null,
   "id": "4301851f-f485-416b-ade5-1fc88a2bedfe",
   "metadata": {},
   "outputs": [],
   "source": [
    "formatter = layer_type_formatter if True else precision_formatter\n",
    "graph = to_dot(plan, formatter)\n",
    "svg_name = render_dot(graph, engine_name, 'svg')\n",
    "\n",
    "png_name = render_dot(graph, engine_name, 'png')\n",
    "from IPython.display import Image\n",
    "display(Image(filename=png_name))"
   ]
  },
  {
   "cell_type": "code",
   "execution_count": null,
   "id": "3c21122e-b003-42c5-819f-c18c983498e1",
   "metadata": {},
   "outputs": [],
   "source": [
    "print(\"List the 3-slowest layers:\\n\")\n",
    "\n",
    "top3 = plan.df.nlargest(3, 'latency.pct_time')\n",
    "for i in range(len(top3)):\n",
    "    layer = top3.iloc[i]\n",
    "    print(\"%d: %s: %s\" % (i + 1, layer[\"Name\"], layer[\"type\"]))\n",
    "\n",
    "top3_latency = top3['latency.avg_time'].sum()\n",
    "top3_percent = top3['latency.pct_time'].sum()\n",
    "print(f\"\\ntop3 latency: {top3_latency:.6f} ms ({top3_percent:.2f}%)\")"
   ]
  }
 ],
 "metadata": {
  "kernelspec": {
   "display_name": "Python 3 (ipykernel)",
   "language": "python",
   "name": "python3"
  },
  "language_info": {
   "codemirror_mode": {
    "name": "ipython",
    "version": 3
   },
   "file_extension": ".py",
   "mimetype": "text/x-python",
   "name": "python",
   "nbconvert_exporter": "python",
   "pygments_lexer": "ipython3",
   "version": "3.8.10"
  }
 },
 "nbformat": 4,
 "nbformat_minor": 5
}
